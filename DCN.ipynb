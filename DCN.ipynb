{
 "cells": [
  {
   "cell_type": "markdown",
   "metadata": {},
   "source": [
    "### DCN"
   ]
  },
  {
   "cell_type": "markdown",
   "metadata": {},
   "source": [
    "import+device"
   ]
  },
  {
   "cell_type": "code",
   "execution_count": 11,
   "metadata": {},
   "outputs": [
    {
     "name": "stdout",
     "output_type": "stream",
     "text": [
      "Training on [cpu].\n"
     ]
    }
   ],
   "source": [
    "import torch\n",
    "import torch.nn.functional as F\n",
    "import torch.nn as nn\n",
    "\n",
    "device = torch.device('cuda:0' if torch.cuda.is_available() else 'cpu')\n",
    "print('Training on [{}].'.format(device))"
   ]
  },
  {
   "cell_type": "markdown",
   "metadata": {},
   "source": [
    "prepare dataset"
   ]
  },
  {
   "cell_type": "code",
   "execution_count": 12,
   "metadata": {},
   "outputs": [
    {
     "name": "stdout",
     "output_type": "stream",
     "text": [
      "tensor([  68, 2081])\n",
      "tensor([[1.],\n",
      "        [0.],\n",
      "        [0.],\n",
      "        ...,\n",
      "        [0.],\n",
      "        [0.],\n",
      "        [1.]])\n"
     ]
    }
   ],
   "source": [
    "from utils import create_dataset\n",
    "dataset = create_dataset('movielens', device=device)\n",
    "data = dataset.train_valid_test_split()\n",
    "field_dims, (train_X, train_y), (valid_X, valid_y), (test_X, test_y) = data\n",
    "print(train_X[0,:]) # userID, movieID\n",
    "print(train_y)   # like/dislike"
   ]
  },
  {
   "cell_type": "markdown",
   "metadata": {},
   "source": [
    "cross network (这个不需要)"
   ]
  },
  {
   "cell_type": "code",
   "execution_count": 13,
   "metadata": {},
   "outputs": [],
   "source": [
    "class CrossInteraction(nn.Module):\n",
    "    def __init__(self, input_dim):\n",
    "        super(CrossInteraction, self).__init__()\n",
    "        self.weight = nn.Linear(input_dim, 1, bias=False)\n",
    "        self.bias = nn.Parameter(torch.zeros(input_dim))\n",
    "\n",
    "    def forward(self, X_0, X_i):\n",
    "        interact_out = self.weight(X_i) * X_0 + self.bias\n",
    "        return interact_out\n",
    "\n",
    "\n",
    "class CrossNet(nn.Module):\n",
    "    def __init__(self, input_dim, num_layers):\n",
    "        super(CrossNet, self).__init__()\n",
    "        self.num_layers = num_layers\n",
    "        self.cross_net = nn.ModuleList(CrossInteraction(input_dim)\n",
    "                                       for _ in range(self.num_layers))\n",
    "\n",
    "    def forward(self, X_0):\n",
    "        X_i = X_0 # b x dim\n",
    "        for i in range(self.num_layers):\n",
    "            X_i = X_i + self.cross_net[i](X_0, X_i)\n",
    "        return X_i"
   ]
  },
  {
   "cell_type": "markdown",
   "metadata": {},
   "source": [
    "mlp_block"
   ]
  },
  {
   "cell_type": "code",
   "execution_count": 33,
   "metadata": {},
   "outputs": [],
   "source": [
    "from fuxictr.pytorch.torch_utils import get_activation\n",
    "class MLP_Block(nn.Module):\n",
    "    def __init__(self, \n",
    "                 input_dim, \n",
    "                 hidden_units=[], \n",
    "                 hidden_activations=\"ReLU\",\n",
    "                 output_dim=True,\n",
    "                 output_activation=None, \n",
    "                 dropout_rates=0.0,\n",
    "                 batch_norm=False, \n",
    "                 bn_only_once=False, # Set True for inference speed up\n",
    "                 use_bias=True):\n",
    "        super(MLP_Block, self).__init__()\n",
    "        dense_layers = []\n",
    "\n",
    "        # check whether are lists\n",
    "        if not isinstance(dropout_rates, list):\n",
    "            dropout_rates = [dropout_rates] * len(hidden_units)\n",
    "        if not isinstance(hidden_activations, list):\n",
    "            hidden_activations = [hidden_activations] * len(hidden_units)\n",
    "            \n",
    "        hidden_activations = get_activation(hidden_activations, hidden_units)\n",
    "        hidden_units = [input_dim] + hidden_units\n",
    "\n",
    "        # batch normalization\n",
    "        if batch_norm and bn_only_once:\n",
    "            dense_layers.append(nn.BatchNorm1d(input_dim))\n",
    "\n",
    "        # construct layers of mlp\n",
    "        for idx in range(len(hidden_units) - 1):\n",
    "            dense_layers.append(nn.Linear(hidden_units[idx], hidden_units[idx + 1], bias=use_bias))\n",
    "            if batch_norm and not bn_only_once:\n",
    "                dense_layers.append(nn.BatchNorm1d(hidden_units[idx + 1]))\n",
    "            if hidden_activations[idx]:\n",
    "                dense_layers.append(hidden_activations[idx])\n",
    "      \n",
    "        if output_dim is not None:\n",
    "            dense_layers.append(nn.Linear(hidden_units[-1], output_dim, bias=use_bias))\n",
    "        if output_activation is not None:\n",
    "            dense_layers.append(get_activation(output_activation))\n",
    "            \n",
    "        self.mlp = nn.Sequential(*dense_layers) # * used to unpack list\n",
    "    \n",
    "    def forward(self, inputs):\n",
    "        return self.mlp(inputs)"
   ]
  },
  {
   "cell_type": "code",
   "execution_count": 54,
   "metadata": {},
   "outputs": [],
   "source": [
    "class model(nn.Module):\n",
    "    def __init__(self,\n",
    "                 field_dims,\n",
    "                 num_cross_layers,\n",
    "                 dnn_hidden_units=[],\n",
    "                 dnn_activations=\"ReLU\",\n",
    "                 net_dropout=0,\n",
    "                 batch_norm=False,\n",
    "                 embed_dim = 1):\n",
    "        super(model, self).__init__()\n",
    "        # embedding layer\n",
    "        self.embedding_list = nn.ModuleList([nn.Embedding(dim, embed_dim) for dim in field_dims])\n",
    "        input_dim = len(field_dims)\n",
    "        # mlp layer\n",
    "        self.dnn = MLP_Block(input_dim=input_dim,\n",
    "                             output_dim=None, # output hidden layer\n",
    "                             hidden_units=dnn_hidden_units,\n",
    "                             hidden_activations=dnn_activations,\n",
    "                             output_activation=None, \n",
    "                             dropout_rates=net_dropout,\n",
    "                             batch_norm=batch_norm) \\\n",
    "                   if dnn_hidden_units else None # in case of only crossing net used\n",
    "        self.crossnet = CrossNet(input_dim, num_cross_layers)\n",
    "        self.fc=nn.Linear(input_dim,1)\n",
    "    \n",
    "    def forward(self, X):\n",
    "        # embedding & stacking layer\n",
    "        all_emb = torch.cat([embedding(X[:, i]) for i, embedding in enumerate(self.embedding_list)], dim = 1)\n",
    "        corss_out=self.crossnet(all_emb)\n",
    "        if self.dnn is not None:\n",
    "            dnn_out=self.dnn(all_emb)\n",
    "            final_out=torch.cat([corss_out,dnn_out],dim=-1)\n",
    "        else:\n",
    "            final_out=corss_out\n",
    "        y_pred=self.fc(final_out)\n",
    "        return F.sigmoid(y_pred)"
   ]
  },
  {
   "cell_type": "markdown",
   "metadata": {},
   "source": [
    "Training"
   ]
  },
  {
   "cell_type": "code",
   "execution_count": 57,
   "metadata": {},
   "outputs": [
    {
     "name": "stderr",
     "output_type": "stream",
     "text": [
      "100%|██████████| 2000/2000 [05:21<00:00,  6.23it/s]\n"
     ]
    },
    {
     "data": {
      "image/png": "[encoded data removed]",
      "text/plain": [
       "<Figure size 640x480 with 1 Axes>"
      ]
     },
     "metadata": {},
     "output_type": "display_data"
    },
    {
     "name": "stdout",
     "output_type": "stream",
     "text": [
      "train_loss: 0.47862 | train_metric: 0.83928\n",
      "valid_loss: 0.57626 | valid_metric: 0.76386\n",
      "test_loss:  0.58437 | test_auc:  0.76397\n",
      "CPU times: user 42min 46s, sys: 2.82 s, total: 42min 48s\n",
      "Wall time: 5min 21s\n"
     ]
    }
   ],
   "source": [
    "%%time\n",
    "\n",
    "from utils import Trainer\n",
    "LEARNING_RATE = 1e-4\n",
    "REGULARIZATION = 1e-6\n",
    "BATCH_SIZE = 4096\n",
    "EPOCH = 2000\n",
    "TRIAL = 100\n",
    "num_cross_layers = 4\n",
    "\n",
    "\n",
    "mm = model(field_dims,num_cross_layers).to(device)\n",
    "optimizer = torch.optim.Adam(mm.parameters(), lr=LEARNING_RATE, weight_decay=REGULARIZATION)\n",
    "criterion = torch.nn.BCELoss()\n",
    "\n",
    "trainer = Trainer(mm, optimizer, criterion, BATCH_SIZE)\n",
    "trainer.train(train_X, train_y, epoch=EPOCH, trials=TRIAL, valid_X=valid_X, valid_y=valid_y)\n",
    "test_loss, test_auc = trainer.test(test_X, test_y)\n",
    "print('test_loss:  {:.5f} | test_auc:  {:.5f}'.format(test_loss, test_auc))"
   ]
  },
  {
   "cell_type": "code",
   "execution_count": null,
   "metadata": {},
   "outputs": [],
   "source": []
  }
 ],
 "metadata": {
  "kernelspec": {
   "display_name": "recommend",
   "language": "python",
   "name": "python3"
  },
  "language_info": {
   "codemirror_mode": {
    "name": "ipython",
    "version": 3
   },
   "file_extension": ".py",
   "mimetype": "text/x-python",
   "name": "python",
   "nbconvert_exporter": "python",
   "pygments_lexer": "ipython3",
   "version": "3.10.13"
  }
 },
 "nbformat": 4,
 "nbformat_minor": 2
}
