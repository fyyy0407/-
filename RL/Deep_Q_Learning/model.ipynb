{
 "cells": [
  {
   "cell_type": "markdown",
   "metadata": {},
   "source": [
    "### Build Model"
   ]
  },
  {
   "cell_type": "markdown",
   "metadata": {},
   "source": [
    "#### Define the Q network model"
   ]
  },
  {
   "cell_type": "code",
   "execution_count": 1,
   "metadata": {},
   "outputs": [],
   "source": [
    "import os\n",
    "import torch\n",
    "from torch import nn\n",
    "from torch.utils.data import DataLoader\n",
    "from torchvision import datasets, transforms\n",
    "import torch.optim as optim\n",
    "import torch.nn.functional as F\n",
    "\n",
    "\n",
    "class DQN(nn.Module):\n",
    "    def __init__(self, state_size, hidden_size, action_size):\n",
    "        super(DQN,self).__init__()\n",
    "        self.layer1=nn.Linear(state_size,hidden_size)\n",
    "        self.layer2=nn.Linear(hidden_size,hidden_size)\n",
    "        self.layer3=nn.Linear(hidden_size,action_size)\n",
    "\n",
    "    def forward(self,x):\n",
    "        x=F.relu(self.layer1(x))\n",
    "        x=F.relu(self.layer2(x))\n",
    "        return self.layer3(x)"
   ]
  },
  {
   "cell_type": "markdown",
   "metadata": {},
   "source": [
    "#### Glucose-Insulin Dynamic"
   ]
  },
  {
   "cell_type": "code",
   "execution_count": 1,
   "metadata": {},
   "outputs": [
    {
     "name": "stdout",
     "output_type": "stream",
     "text": [
      "  message: The solver successfully reached the end of the integration interval.\n",
      "  success: True\n",
      "   status: 0\n",
      "        t: [ 0.000e+00  1.500e+00  3.000e+00  4.500e+00  6.000e+00\n",
      "             7.500e+00  9.000e+00  1.050e+01  1.200e+01  1.350e+01]\n",
      "        y: [[ 8.850e+00  1.018e+01 ...  1.935e+01  2.065e+01]\n",
      "            [ 5.985e+01  5.985e+01 ...  5.985e+01  5.985e+01]]\n",
      "      sol: None\n",
      " t_events: None\n",
      " y_events: None\n",
      "     nfev: 20\n",
      "     njev: 0\n",
      "      nlu: 0\n"
     ]
    }
   ],
   "source": [
    "import numpy as np\n",
    "from scipy.integrate import solve_ivp\n",
    "import math\n",
    "\n",
    "# Define the parameters of the model (example values, you should replace them with actual patient data)\n",
    "params = {\n",
    "    \"Kxgi\": 3.15e-5,  # rate of glucose uptake per insulin concentration\n",
    "    \"Kxi\": 0.038,     # disappearance rate constant for insulin\n",
    "    \"Kxg\": 0.1,       # rate of insulin-independent glucose uptake\n",
    "    \"VG\": 0.18,       # distribution volume for glucose\n",
    "    \"VI\": 0.25,       # distribution volume for insulin\n",
    "    \"G_star\": 9,      # state when insulin ecretion equal to Tigmax/2\n",
    "    \"gamma\": 15.92,   # progressivity pancreas reacts to circulating glucose concentrations\n",
    "    \"tau_g\": 6.5,     # Time delay 对照实验中取了0\n",
    "    \"Gb\": 8.85,       # mM - Basal glucose\n",
    "    \"Ib\": 59.85,       # pM - Basal insulin\n",
    "    \"dt\": 1.5\n",
    "}\n",
    "\n",
    "# Initial conditions for G and I\n",
    "G0=params['Gb']\n",
    "I0=params['Ib']\n",
    "Y0=[G0,I0]\n",
    "\n",
    "G_history=[G0]\n",
    "I_history=[I0]\n",
    "Y=[G_history[-1],I_history[-1]]\n",
    "\n",
    "# History buffer for delayed glucose\n",
    "class GlucoseBuffer:\n",
    "    def __init__(self, tau_g, initial_glucose, dt):\n",
    "        self.buffer = np.full(int(tau_g / dt), initial_glucose)\n",
    "        self.tau_g = tau_g\n",
    "        self.dt = dt #time step between successive glucose values\n",
    "        self.pos = 0  # current position in the buffer\n",
    "    \n",
    "    def update(self, glucose):\n",
    "        self.buffer[self.pos] = glucose\n",
    "        self.pos = (self.pos + 1) % len(self.buffer)\n",
    "    \n",
    "    def get_delayed_glucose(self):\n",
    "        return self.buffer[self.pos]\n",
    "\n",
    "dt=params['dt']\n",
    "# Create an instance of the buffer\n",
    "buffer = GlucoseBuffer(params['tau_g'], initial_glucose=G0,dt=dt)\n",
    "# The model's equations, considering the time delay\n",
    "def glucose_insulin_dynamics(t,Y,params,v=0.0):\n",
    "    # v is the insulin input, you'll need to set it according to the treatment policy\n",
    "    G=Y[0]\n",
    "    I=Y[1]\n",
    "    G0=params['Gb']\n",
    "    I0=params['Ib']\n",
    "    # Use buffer to get delayed G(t - tau_g)\n",
    "    G_delayed = buffer.get_delayed_glucose()\n",
    "\n",
    "    # Define the φ function\n",
    "    def phi(G_delayed):\n",
    "        return (G_delayed / params['G_star'])**params['gamma'] / (1 + (G_delayed / params['G_star'])**params['gamma'])\n",
    "    \n",
    "    # define Tgh function\n",
    "    def Tgh(params,G0,I0):\n",
    "        return params['VG']*G0*(params['Kxg']+params['Kxgi']*I0)\n",
    "    \n",
    "    # define Tigmax function\n",
    "    def Tigmax(params,I0, G_delayed):\n",
    "        return (params['VI']*params['Kxi']*I0)/phi(G_delayed)\n",
    "    \n",
    "    # Equations for dG/dt and dI/dt\n",
    "    dG_dt = -params['Kxgi'] * G * I + Tgh(params,G0,I0)/ params['VG']\n",
    "    dI_dt = -params['Kxi'] * I + (Tigmax(params,I0,G_delayed) * phi(G_delayed)) / params['VI'] + v / params['VI']\n",
    "    # Update the glucose buffer\n",
    "    buffer.update(G)\n",
    "\n",
    "    return [dG_dt, dI_dt]\n",
    "\n",
    "# Solve the system of equations with solve_ivp, using a custom time stepping to update the buffer\n",
    "def solve_system(t_span, Y0,v):\n",
    "    t_eval = np.arange(t_span[0], t_span[1], buffer.dt)\n",
    "    sol = solve_ivp(glucose_insulin_dynamics, t_span, Y0,args=(params,v,), t_eval=t_eval, method='RK45')\n",
    "    return sol\n",
    "\n",
    "# Time span for the simulation (in minutes)\n",
    "t_span = (0, 15)  # 24 hours\n",
    "\n",
    "# # Solve the differential equations with the custom solve_system function\n",
    "solution=solve_system(t_span,Y0,0)\n",
    "print(solution)"
   ]
  },
  {
   "cell_type": "markdown",
   "metadata": {},
   "source": [
    "#### Define reward function"
   ]
  },
  {
   "cell_type": "code",
   "execution_count": 3,
   "metadata": {},
   "outputs": [],
   "source": [
    "# initial value\n",
    "N_G=0"
   ]
  },
  {
   "cell_type": "code",
   "execution_count": 4,
   "metadata": {},
   "outputs": [
    {
     "name": "stdout",
     "output_type": "stream",
     "text": [
      "0\n"
     ]
    }
   ],
   "source": [
    "def reward(N_G,G):\n",
    "    if 4<G<7.5:\n",
    "        return N_G/24\n",
    "    elif G<2.78 or G>13.9:\n",
    "        return -1\n",
    "    else:\n",
    "        return 0\n",
    "   \n",
    "# solution=solve_system(t_span,Y0)\n",
    "# G=solution.y[0]\n",
    "# I=solution.y[1]\n",
    "# G_history=G.tolist()\n",
    "\n",
    "# print(G_history)\n",
    "# I_history.append(I)\n",
    "G_history=[G0]\n",
    "I_history=[I0]\n",
    "for G in G_history:\n",
    "    if 4<G<7.5:\n",
    "        N_G+=1\n",
    "print(N_G)"
   ]
  },
  {
   "cell_type": "markdown",
   "metadata": {},
   "source": [
    "#### Optimizer"
   ]
  },
  {
   "cell_type": "code",
   "execution_count": 5,
   "metadata": {},
   "outputs": [],
   "source": [
    "import torch\n",
    "learning_rate=0.1\n",
    "torch_params = {k: torch.tensor(v, dtype=torch.float64, requires_grad=True) for k, v in params.items()}\n",
    "optimizer = torch.optim.Adam(torch_params.values(), lr=learning_rate)"
   ]
  },
  {
   "cell_type": "markdown",
   "metadata": {},
   "source": [
    "#### Replay Memory"
   ]
  },
  {
   "cell_type": "code",
   "execution_count": 6,
   "metadata": {},
   "outputs": [],
   "source": [
    "from collections import namedtuple, deque\n",
    "import random\n",
    "\n",
    "Transition = namedtuple('Transition',\n",
    "                        ('state', 'action', 'next_state', 'reward'))\n",
    "\n",
    "\n",
    "class ReplayMemory(object):\n",
    "\n",
    "    def __init__(self, capacity):\n",
    "        self.memory = deque([], maxlen=capacity)\n",
    "\n",
    "    def push(self, *args):\n",
    "        \"\"\"Save a transition\"\"\"\n",
    "        self.memory.append(Transition(*args))\n",
    "\n",
    "    def sample(self, batch_size):\n",
    "        return random.sample(self.memory, batch_size)\n",
    "\n",
    "    def __len__(self):\n",
    "        return len(self.memory)"
   ]
  },
  {
   "cell_type": "markdown",
   "metadata": {},
   "source": [
    "#### Import Data"
   ]
  },
  {
   "cell_type": "markdown",
   "metadata": {},
   "source": [
    "Define the object"
   ]
  },
  {
   "cell_type": "code",
   "execution_count": 7,
   "metadata": {},
   "outputs": [],
   "source": [
    "import pandas as pd\n",
    "import torch\n",
    "from torch.utils.data import Dataset, DataLoader\n",
    "import os\n",
    "\n",
    "class DiabetesDataset(Dataset):\n",
    "    def __init__(self, patient_file,transform=None,target_transform=None):\n",
    "        self.data=pd.read_csv(patient_file)\n",
    "        self.diabete_record=self.data.iloc[:,1]\n",
    "        self.labels=self.data.iloc[:,0]\n",
    "        self.insulin_doses=self.data.iloc[:,2]\n",
    "        # self.label=torch.arange(0,(len(self.labels)+1)* 1.5, step=1.5)\n",
    "        self.transform=transform\n",
    "        self.target_transform=target_transform\n",
    "\n",
    "    def __len__(self):\n",
    "        return len(self.labels)\n",
    "\n",
    "    def __getitem__(self, idx):       \n",
    "        diabete=self.diabete_record.iloc[idx]\n",
    "        label=self.labels[idx]\n",
    "        insulin_doses=self.insulin_doses.iloc[idx]\n",
    "        if self.transform:\n",
    "            diabete=self.transform(diabete)\n",
    "        if self.target_transform:\n",
    "            label=self.target_transform(label)\n",
    "        return torch.tensor(diabete),insulin_doses\n",
    "\n"
   ]
  },
  {
   "cell_type": "markdown",
   "metadata": {},
   "source": [
    "Extract Data"
   ]
  },
  {
   "cell_type": "code",
   "execution_count": 8,
   "metadata": {},
   "outputs": [],
   "source": [
    "patient1=DiabetesDataset('/home/fyyy0407/RL/Deep_Q_Learning/Shanghai_T2DM/1.csv')"
   ]
  },
  {
   "cell_type": "code",
   "execution_count": 9,
   "metadata": {},
   "outputs": [
    {
     "name": "stdout",
     "output_type": "stream",
     "text": [
      "0\n",
      "1339\n"
     ]
    }
   ],
   "source": [
    "import math\n",
    "diabete,insulin_doses=patient1.__getitem__(patient1.__len__()-1)\n",
    "print(insulin_doses)\n",
    "print(patient1.__len__())"
   ]
  },
  {
   "cell_type": "markdown",
   "metadata": {},
   "source": [
    "#### Training"
   ]
  },
  {
   "cell_type": "code",
   "execution_count": 10,
   "metadata": {},
   "outputs": [],
   "source": [
    "# import math\n",
    "\n",
    "\n",
    "# # def select_action(episode):\n",
    "#     # patient1=DiabetesDataset('/home/fyyy0407/RL/Deep_Q_Learning/Shanghai_T2DM/1.csv')\n",
    "#     # diabete,label,insulin_doses=patient1.__getitem__(episode)\n",
    "#     # if math.isnan(insulin_doses):\n",
    "#     #     insulin_doses=0.0\n",
    "#     # return diabete, label, insulin_doses\n",
    "\n",
    "# def select_action(episode):\n",
    "#     patient1=DiabetesDataset('/home/fyyy0407/RL/Deep_Q_Learning/originData.csv')\n",
    "#     label,insulin_doses=patient1.__getitem__(episode)\n",
    "#     return label,insulin_doses\n",
    "   \n",
    "\n",
    "# def train_loop(G0,I0,optimizer, episodes, memory, batch_size, gamma, target_dqn=None, update_target_every=10):\n",
    "#     for episode in range(episodes):\n",
    "#         # Get initial state from the physiological model\n",
    "#         current_glucose, current_insulin = G0,I0  # Your function to get initial state\n",
    "#         total_reward = 0\n",
    "        \n",
    "#         # Choose an action based on the current state and policy\n",
    "#         (time,action) = select_action(episode)  # 利用数据中的action\n",
    "#         current_Y=[current_glucose,current_insulin]\n",
    "#         # Apply the action to the environment (administer insulin dose) and observe next state and reward\n",
    "#         # next_glucose, next_insulin= slove_system(action, state)  # Your function to apply action\n",
    "#         sol=solve_system(t_span,current_Y)\n",
    "#         next_G=sol.y[0]\n",
    "#         next_I=sol.y[1]\n",
    "#         G_history=next_G.tolist()\n",
    "#         I_history=next_I.tolist()\n",
    "#         for G in G_history:\n",
    "#             if 4<G<7.5:\n",
    "#                 N_G+=1\n",
    "\n",
    "#         rwd=reward(N_G,current_glucose)\n",
    "#         # Store the transition in memory\n",
    "#         next_Y = torch.tensor([next_G, next_I], dtype=torch.float32)\n",
    "#         memory.push((current_Y, action, next_Y, rwd))\n",
    "            \n",
    "#         # Move to the next state\n",
    "#         current_Y = next_Y\n",
    "            \n",
    "#         # Perform one step of the optimization (sample from memory and update model)\n",
    "#         optimize_dqn(dqn, optimizer, memory, batch_size, gamma)\n",
    "            \n",
    "#         total_reward += rwd\n",
    "        \n",
    "#         if target_dqn and episode % update_target_every == 0:\n",
    "#             # Update the target network with the current policy network\n",
    "#             target_dqn.load_state_dict(dqn.state_dict())\n",
    "        \n",
    "#         # Logging\n",
    "#         print(f'Episode {episode}: Total reward: {total_reward}')\n",
    "\n",
    "\n",
    "#     pass"
   ]
  },
  {
   "cell_type": "markdown",
   "metadata": {},
   "source": [
    "#### Optimizing and Training"
   ]
  },
  {
   "cell_type": "code",
   "execution_count": 11,
   "metadata": {},
   "outputs": [],
   "source": [
    "import torch\n",
    "from torch import nn\n",
    "from torch.utils.data import DataLoader\n",
    "from torchvision import datasets\n",
    "from torchvision.transforms import ToTensor\n",
    "\n",
    "parameters_history = []\n",
    "torch_params = {k: torch.tensor(v, dtype=torch.float32, requires_grad=True) for k, v in params.items()}\n",
    "\n",
    "train_dataloader=DataLoader(patient1,batch_size=1,shuffle=False)\n",
    "# loss_fn = nn.CrossEntropyLoss()\n",
    "loss_fn = torch.nn.MSELoss()\n",
    "def train_loop(G_history,I_history,batch_size,train_dataloader,solve_system,loss_fn,optimizer):\n",
    "    size=train_dataloader.__len__()\n",
    "    for batch, (glc,isl)in enumerate(train_dataloader):\n",
    "        crt_G=G_history[-1]\n",
    "        crt_I=I_history[-1]\n",
    "        crt_Y=[crt_G,crt_I]\n",
    "        print(batch)\n",
    "\n",
    "        pred=solve_system(t_span,crt_Y,v=isl.item())\n",
    "        nxt_G=pred.y[0]\n",
    "        nxt_I=pred.y[1]\n",
    "        G_history.append(nxt_G.tolist())\n",
    "        I_history.append(nxt_I.tolist())\n",
    "\n",
    "        crt_G_tensor = torch.tensor([crt_G], dtype=torch.float32,requires_grad=True)  # Ensure it's a float tensor\n",
    "        glc_tensor = torch.tensor([glc], dtype=torch.float32)  # Ensure it's a float tensor\n",
    "        loss = loss_fn(crt_G_tensor, glc_tensor)\n",
    "\n",
    "        loss.backward()\n",
    "        optimizer.step()\n",
    "        optimizer.zero_grad()\n",
    "\n",
    "        # Record the current parameters\n",
    "        current_params = {k: v.detach().clone() for k, v in torch_params.items()}\n",
    "        parameters_history.append(current_params)\n",
    "\n",
    "        if batch%100==0:\n",
    "            loss,current=loss.item(),batch*batch_size+len(glc)\n",
    "            print(f\"loss: {loss:>7f}  [{current:>5d}/{size:>5d}]\")"
   ]
  },
  {
   "cell_type": "code",
   "execution_count": 12,
   "metadata": {},
   "outputs": [
    {
     "name": "stdout",
     "output_type": "stream",
     "text": [
      "0\n",
      "loss: 16835.062500  [    1/ 1339]\n",
      "1\n"
     ]
    },
    {
     "ename": "ValueError",
     "evalue": "`y0` must be 1-dimensional.",
     "output_type": "error",
     "traceback": [
      "\u001b[0;31m---------------------------------------------------------------------------\u001b[0m",
      "\u001b[0;31mValueError\u001b[0m                                Traceback (most recent call last)",
      "Cell \u001b[0;32mIn[12], line 1\u001b[0m\n\u001b[0;32m----> 1\u001b[0m \u001b[43mtrain_loop\u001b[49m\u001b[43m(\u001b[49m\u001b[43mG_history\u001b[49m\u001b[43m,\u001b[49m\u001b[43mI_history\u001b[49m\u001b[43m,\u001b[49m\u001b[38;5;241;43m1\u001b[39;49m\u001b[43m,\u001b[49m\u001b[43mtrain_dataloader\u001b[49m\u001b[43m,\u001b[49m\u001b[43msolve_system\u001b[49m\u001b[43m,\u001b[49m\u001b[43mloss_fn\u001b[49m\u001b[43m,\u001b[49m\u001b[43moptimizer\u001b[49m\u001b[43m)\u001b[49m\n",
      "Cell \u001b[0;32mIn[11], line 21\u001b[0m, in \u001b[0;36mtrain_loop\u001b[0;34m(G_history, I_history, batch_size, train_dataloader, solve_system, loss_fn, optimizer)\u001b[0m\n\u001b[1;32m     18\u001b[0m crt_Y\u001b[38;5;241m=\u001b[39m[crt_G,crt_I]\n\u001b[1;32m     19\u001b[0m \u001b[38;5;28mprint\u001b[39m(batch)\n\u001b[0;32m---> 21\u001b[0m pred\u001b[38;5;241m=\u001b[39m\u001b[43msolve_system\u001b[49m\u001b[43m(\u001b[49m\u001b[43mt_span\u001b[49m\u001b[43m,\u001b[49m\u001b[43mcrt_Y\u001b[49m\u001b[43m,\u001b[49m\u001b[43mv\u001b[49m\u001b[38;5;241;43m=\u001b[39;49m\u001b[43misl\u001b[49m\u001b[38;5;241;43m.\u001b[39;49m\u001b[43mitem\u001b[49m\u001b[43m(\u001b[49m\u001b[43m)\u001b[49m\u001b[43m)\u001b[49m\n\u001b[1;32m     22\u001b[0m nxt_G\u001b[38;5;241m=\u001b[39mpred\u001b[38;5;241m.\u001b[39my[\u001b[38;5;241m0\u001b[39m]\n\u001b[1;32m     23\u001b[0m nxt_I\u001b[38;5;241m=\u001b[39mpred\u001b[38;5;241m.\u001b[39my[\u001b[38;5;241m1\u001b[39m]\n",
      "Cell \u001b[0;32mIn[2], line 81\u001b[0m, in \u001b[0;36msolve_system\u001b[0;34m(t_span, Y0, v)\u001b[0m\n\u001b[1;32m     79\u001b[0m \u001b[38;5;28;01mdef\u001b[39;00m \u001b[38;5;21msolve_system\u001b[39m(t_span, Y0,v):\n\u001b[1;32m     80\u001b[0m     t_eval \u001b[38;5;241m=\u001b[39m np\u001b[38;5;241m.\u001b[39marange(t_span[\u001b[38;5;241m0\u001b[39m], t_span[\u001b[38;5;241m1\u001b[39m], buffer\u001b[38;5;241m.\u001b[39mdt)\n\u001b[0;32m---> 81\u001b[0m     sol \u001b[38;5;241m=\u001b[39m \u001b[43msolve_ivp\u001b[49m\u001b[43m(\u001b[49m\u001b[43mglucose_insulin_dynamics\u001b[49m\u001b[43m,\u001b[49m\u001b[43m \u001b[49m\u001b[43mt_span\u001b[49m\u001b[43m,\u001b[49m\u001b[43m \u001b[49m\u001b[43mY0\u001b[49m\u001b[43m,\u001b[49m\u001b[43margs\u001b[49m\u001b[38;5;241;43m=\u001b[39;49m\u001b[43m(\u001b[49m\u001b[43mparams\u001b[49m\u001b[43m,\u001b[49m\u001b[43mv\u001b[49m\u001b[43m,\u001b[49m\u001b[43m)\u001b[49m\u001b[43m,\u001b[49m\u001b[43m \u001b[49m\u001b[43mt_eval\u001b[49m\u001b[38;5;241;43m=\u001b[39;49m\u001b[43mt_eval\u001b[49m\u001b[43m,\u001b[49m\u001b[43m \u001b[49m\u001b[43mmethod\u001b[49m\u001b[38;5;241;43m=\u001b[39;49m\u001b[38;5;124;43m'\u001b[39;49m\u001b[38;5;124;43mRK45\u001b[39;49m\u001b[38;5;124;43m'\u001b[39;49m\u001b[43m)\u001b[49m\n\u001b[1;32m     82\u001b[0m     \u001b[38;5;28;01mreturn\u001b[39;00m sol\n",
      "File \u001b[0;32m~/anaconda3/envs/tutorials/lib/python3.10/site-packages/scipy/integrate/_ivp/ivp.py:568\u001b[0m, in \u001b[0;36msolve_ivp\u001b[0;34m(fun, t_span, y0, method, t_eval, dense_output, events, vectorized, args, **options)\u001b[0m\n\u001b[1;32m    565\u001b[0m \u001b[38;5;28;01mif\u001b[39;00m method \u001b[38;5;129;01min\u001b[39;00m METHODS:\n\u001b[1;32m    566\u001b[0m     method \u001b[38;5;241m=\u001b[39m METHODS[method]\n\u001b[0;32m--> 568\u001b[0m solver \u001b[38;5;241m=\u001b[39m \u001b[43mmethod\u001b[49m\u001b[43m(\u001b[49m\u001b[43mfun\u001b[49m\u001b[43m,\u001b[49m\u001b[43m \u001b[49m\u001b[43mt0\u001b[49m\u001b[43m,\u001b[49m\u001b[43m \u001b[49m\u001b[43my0\u001b[49m\u001b[43m,\u001b[49m\u001b[43m \u001b[49m\u001b[43mtf\u001b[49m\u001b[43m,\u001b[49m\u001b[43m \u001b[49m\u001b[43mvectorized\u001b[49m\u001b[38;5;241;43m=\u001b[39;49m\u001b[43mvectorized\u001b[49m\u001b[43m,\u001b[49m\u001b[43m \u001b[49m\u001b[38;5;241;43m*\u001b[39;49m\u001b[38;5;241;43m*\u001b[39;49m\u001b[43moptions\u001b[49m\u001b[43m)\u001b[49m\n\u001b[1;32m    570\u001b[0m \u001b[38;5;28;01mif\u001b[39;00m t_eval \u001b[38;5;129;01mis\u001b[39;00m \u001b[38;5;28;01mNone\u001b[39;00m:\n\u001b[1;32m    571\u001b[0m     ts \u001b[38;5;241m=\u001b[39m [t0]\n",
      "File \u001b[0;32m~/anaconda3/envs/tutorials/lib/python3.10/site-packages/scipy/integrate/_ivp/rk.py:89\u001b[0m, in \u001b[0;36mRungeKutta.__init__\u001b[0;34m(self, fun, t0, y0, t_bound, max_step, rtol, atol, vectorized, first_step, **extraneous)\u001b[0m\n\u001b[1;32m     85\u001b[0m \u001b[38;5;28;01mdef\u001b[39;00m \u001b[38;5;21m__init__\u001b[39m(\u001b[38;5;28mself\u001b[39m, fun, t0, y0, t_bound, max_step\u001b[38;5;241m=\u001b[39mnp\u001b[38;5;241m.\u001b[39minf,\n\u001b[1;32m     86\u001b[0m              rtol\u001b[38;5;241m=\u001b[39m\u001b[38;5;241m1e-3\u001b[39m, atol\u001b[38;5;241m=\u001b[39m\u001b[38;5;241m1e-6\u001b[39m, vectorized\u001b[38;5;241m=\u001b[39m\u001b[38;5;28;01mFalse\u001b[39;00m,\n\u001b[1;32m     87\u001b[0m              first_step\u001b[38;5;241m=\u001b[39m\u001b[38;5;28;01mNone\u001b[39;00m, \u001b[38;5;241m*\u001b[39m\u001b[38;5;241m*\u001b[39mextraneous):\n\u001b[1;32m     88\u001b[0m     warn_extraneous(extraneous)\n\u001b[0;32m---> 89\u001b[0m     \u001b[38;5;28;43msuper\u001b[39;49m\u001b[43m(\u001b[49m\u001b[43m)\u001b[49m\u001b[38;5;241;43m.\u001b[39;49m\u001b[38;5;21;43m__init__\u001b[39;49m\u001b[43m(\u001b[49m\u001b[43mfun\u001b[49m\u001b[43m,\u001b[49m\u001b[43m \u001b[49m\u001b[43mt0\u001b[49m\u001b[43m,\u001b[49m\u001b[43m \u001b[49m\u001b[43my0\u001b[49m\u001b[43m,\u001b[49m\u001b[43m \u001b[49m\u001b[43mt_bound\u001b[49m\u001b[43m,\u001b[49m\u001b[43m \u001b[49m\u001b[43mvectorized\u001b[49m\u001b[43m,\u001b[49m\n\u001b[1;32m     90\u001b[0m \u001b[43m                     \u001b[49m\u001b[43msupport_complex\u001b[49m\u001b[38;5;241;43m=\u001b[39;49m\u001b[38;5;28;43;01mTrue\u001b[39;49;00m\u001b[43m)\u001b[49m\n\u001b[1;32m     91\u001b[0m     \u001b[38;5;28mself\u001b[39m\u001b[38;5;241m.\u001b[39my_old \u001b[38;5;241m=\u001b[39m \u001b[38;5;28;01mNone\u001b[39;00m\n\u001b[1;32m     92\u001b[0m     \u001b[38;5;28mself\u001b[39m\u001b[38;5;241m.\u001b[39mmax_step \u001b[38;5;241m=\u001b[39m validate_max_step(max_step)\n",
      "File \u001b[0;32m~/anaconda3/envs/tutorials/lib/python3.10/site-packages/scipy/integrate/_ivp/base.py:135\u001b[0m, in \u001b[0;36mOdeSolver.__init__\u001b[0;34m(self, fun, t0, y0, t_bound, vectorized, support_complex)\u001b[0m\n\u001b[1;32m    133\u001b[0m \u001b[38;5;28mself\u001b[39m\u001b[38;5;241m.\u001b[39mt_old \u001b[38;5;241m=\u001b[39m \u001b[38;5;28;01mNone\u001b[39;00m\n\u001b[1;32m    134\u001b[0m \u001b[38;5;28mself\u001b[39m\u001b[38;5;241m.\u001b[39mt \u001b[38;5;241m=\u001b[39m t0\n\u001b[0;32m--> 135\u001b[0m \u001b[38;5;28mself\u001b[39m\u001b[38;5;241m.\u001b[39m_fun, \u001b[38;5;28mself\u001b[39m\u001b[38;5;241m.\u001b[39my \u001b[38;5;241m=\u001b[39m \u001b[43mcheck_arguments\u001b[49m\u001b[43m(\u001b[49m\u001b[43mfun\u001b[49m\u001b[43m,\u001b[49m\u001b[43m \u001b[49m\u001b[43my0\u001b[49m\u001b[43m,\u001b[49m\u001b[43m \u001b[49m\u001b[43msupport_complex\u001b[49m\u001b[43m)\u001b[49m\n\u001b[1;32m    136\u001b[0m \u001b[38;5;28mself\u001b[39m\u001b[38;5;241m.\u001b[39mt_bound \u001b[38;5;241m=\u001b[39m t_bound\n\u001b[1;32m    137\u001b[0m \u001b[38;5;28mself\u001b[39m\u001b[38;5;241m.\u001b[39mvectorized \u001b[38;5;241m=\u001b[39m vectorized\n",
      "File \u001b[0;32m~/anaconda3/envs/tutorials/lib/python3.10/site-packages/scipy/integrate/_ivp/base.py:17\u001b[0m, in \u001b[0;36mcheck_arguments\u001b[0;34m(fun, y0, support_complex)\u001b[0m\n\u001b[1;32m     14\u001b[0m y0 \u001b[38;5;241m=\u001b[39m y0\u001b[38;5;241m.\u001b[39mastype(dtype, copy\u001b[38;5;241m=\u001b[39m\u001b[38;5;28;01mFalse\u001b[39;00m)\n\u001b[1;32m     16\u001b[0m \u001b[38;5;28;01mif\u001b[39;00m y0\u001b[38;5;241m.\u001b[39mndim \u001b[38;5;241m!=\u001b[39m \u001b[38;5;241m1\u001b[39m:\n\u001b[0;32m---> 17\u001b[0m     \u001b[38;5;28;01mraise\u001b[39;00m \u001b[38;5;167;01mValueError\u001b[39;00m(\u001b[38;5;124m\"\u001b[39m\u001b[38;5;124m`y0` must be 1-dimensional.\u001b[39m\u001b[38;5;124m\"\u001b[39m)\n\u001b[1;32m     19\u001b[0m \u001b[38;5;28;01mif\u001b[39;00m \u001b[38;5;129;01mnot\u001b[39;00m np\u001b[38;5;241m.\u001b[39misfinite(y0)\u001b[38;5;241m.\u001b[39mall():\n\u001b[1;32m     20\u001b[0m     \u001b[38;5;28;01mraise\u001b[39;00m \u001b[38;5;167;01mValueError\u001b[39;00m(\u001b[38;5;124m\"\u001b[39m\u001b[38;5;124mAll components of the initial state `y0` must be finite.\u001b[39m\u001b[38;5;124m\"\u001b[39m)\n",
      "\u001b[0;31mValueError\u001b[0m: `y0` must be 1-dimensional."
     ]
    }
   ],
   "source": [
    "train_loop(G_history,I_history,1,train_dataloader,solve_system,loss_fn,optimizer)"
   ]
  },
  {
   "cell_type": "code",
   "execution_count": null,
   "metadata": {},
   "outputs": [],
   "source": []
  }
 ],
 "metadata": {
  "kernelspec": {
   "display_name": "tutorials",
   "language": "python",
   "name": "python3"
  },
  "language_info": {
   "codemirror_mode": {
    "name": "ipython",
    "version": 3
   },
   "file_extension": ".py",
   "mimetype": "text/x-python",
   "name": "python",
   "nbconvert_exporter": "python",
   "pygments_lexer": "ipython3",
   "version": "3.10.14"
  }
 },
 "nbformat": 4,
 "nbformat_minor": 2
}
