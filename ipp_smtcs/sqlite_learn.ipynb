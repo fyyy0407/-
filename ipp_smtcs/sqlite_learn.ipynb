{
 "cells": [
  {
   "cell_type": "markdown",
   "metadata": {},
   "source": [
    "## Notes for Sqlite"
   ]
  },
  {
   "cell_type": "code",
   "execution_count": 1,
   "metadata": {},
   "outputs": [],
   "source": [
    "import sqlite3\n",
    "# create a database\n",
    "conn=sqlite3.connect('test.db')\n",
    "# # connect to the db in memory\n",
    "# conn=sqlite3.connect(':memory:')"
   ]
  },
  {
   "cell_type": "markdown",
   "metadata": {},
   "source": [
    "create a cursor"
   ]
  },
  {
   "cell_type": "code",
   "execution_count": 2,
   "metadata": {},
   "outputs": [],
   "source": [
    "c=conn.cursor()"
   ]
  },
  {
   "cell_type": "markdown",
   "metadata": {},
   "source": [
    "some basic command"
   ]
  },
  {
   "cell_type": "code",
   "execution_count": 49,
   "metadata": {},
   "outputs": [
    {
     "data": {
      "text/plain": [
       "<sqlite3.Cursor at 0x7f7d439d5440>"
      ]
     },
     "execution_count": 49,
     "metadata": {},
     "output_type": "execute_result"
    }
   ],
   "source": [
    "# table\n",
    "c.execute(\"\"\"CREATE TABLE customers(\n",
    "        first_name text,\n",
    "        last_name text,\n",
    "        email text\n",
    ")\n",
    "\"\"\")\n"
   ]
  },
  {
   "cell_type": "markdown",
   "metadata": {},
   "source": [
    "DataType: Null,Integer,real,text,blob(save as origin datatype, eg figures)"
   ]
  },
  {
   "cell_type": "code",
   "execution_count": 50,
   "metadata": {},
   "outputs": [
    {
     "data": {
      "text/plain": [
       "<sqlite3.Cursor at 0x7f7d439d5440>"
      ]
     },
     "execution_count": 50,
     "metadata": {},
     "output_type": "execute_result"
    }
   ],
   "source": [
    "c.execute(\"INSERT INTO customers VALUES ('feng','ying','fyyy0407@sjtu.edu.cn')\")"
   ]
  },
  {
   "cell_type": "code",
   "execution_count": 51,
   "metadata": {},
   "outputs": [
    {
     "data": {
      "text/plain": [
       "<sqlite3.Cursor at 0x7f7d439d5440>"
      ]
     },
     "execution_count": 51,
     "metadata": {},
     "output_type": "execute_result"
    }
   ],
   "source": [
    "many_customer=[\n",
    "    ('kulu','baby','kufy@sjtu.edu.cn'),\n",
    "    ('stevin','stranger','stevin@sjtu.edu.cn'),\n",
    "    ('daisy','girl','daisy@ssjtu.edu.cn')\n",
    "]\n",
    "c.executemany(\"Insert INTO customers VALUES (?,?,?)\",many_customer)"
   ]
  },
  {
   "cell_type": "code",
   "execution_count": null,
   "metadata": {},
   "outputs": [],
   "source": [
    "# commit our command\n",
    "conn.commit()\n",
    "\n",
    "# close  connection\n",
    "conn.close()"
   ]
  },
  {
   "cell_type": "markdown",
   "metadata": {},
   "source": [
    "查询表格数据：query"
   ]
  },
  {
   "cell_type": "code",
   "execution_count": null,
   "metadata": {},
   "outputs": [],
   "source": [
    "c.execute(\"SELECT rowid,*FROM customers\")\n",
    "# print(c.fetchone()[0])\n",
    "# print(c.fetchmany(2))\n",
    "# print(c.fetchall())"
   ]
  },
  {
   "cell_type": "code",
   "execution_count": 5,
   "metadata": {},
   "outputs": [],
   "source": [
    "items=c.fetchall()\n",
    "for item in items:\n",
    "    # print(item[0]+\" \"+item[1]+\"\\t\"+item[2])\n",
    "    print(item)"
   ]
  },
  {
   "cell_type": "code",
   "execution_count": 16,
   "metadata": {},
   "outputs": [
    {
     "data": {
      "text/plain": [
       "[('linebell', 'ying', 'fyyy0407@sjtu.edu.cn')]"
      ]
     },
     "execution_count": 16,
     "metadata": {},
     "output_type": "execute_result"
    }
   ],
   "source": [
    "c.execute(\"SELECT*FROM customers WHERE last_name=='ying'\")\n",
    "c.fetchall()"
   ]
  },
  {
   "cell_type": "code",
   "execution_count": 7,
   "metadata": {},
   "outputs": [
    {
     "data": {
      "text/plain": [
       "[('kulu', 'baby', 'kufy@sjtu.edu.cn'),\n",
       " ('stevin', 'stranger', 'stevin@sjtu.edu.cn'),\n",
       " ('daisy', 'girl', 'daisy@ssjtu.edu.cn'),\n",
       " ('Bob', 'ying', 'fyyy0407@sjtu.edu.cn')]"
      ]
     },
     "execution_count": 7,
     "metadata": {},
     "output_type": "execute_result"
    }
   ],
   "source": [
    "c.execute(\"SELECT*FROM customers WHERE email LIKE '%sjtu.edu.cn'\")\n",
    "# The % at the beginning of the pattern means that any characters can come before sjtu.edu.cn. \n",
    "c.fetchall()"
   ]
  },
  {
   "cell_type": "code",
   "execution_count": 17,
   "metadata": {},
   "outputs": [
    {
     "data": {
      "text/plain": [
       "[('Bob', 'baby', 'kufy@sjtu.edu.cn'),\n",
       " ('Bob', 'stranger', 'stevin@sjtu.edu.cn'),\n",
       " ('Bob', 'girl', 'daisy@ssjtu.edu.cn'),\n",
       " ('linebell', 'ying', 'fyyy0407@sjtu.edu.cn')]"
      ]
     },
     "execution_count": 17,
     "metadata": {},
     "output_type": "execute_result"
    }
   ],
   "source": [
    "# update records\n",
    "c.execute(\"\"\"UPDATE customers SET first_name='linebell'\n",
    "         WHERE last_name=='ying'\"\"\")\n",
    "c.execute(\"SELECT*FROM customers\")\n",
    "c.fetchall()"
   ]
  },
  {
   "cell_type": "code",
   "execution_count": 22,
   "metadata": {},
   "outputs": [
    {
     "data": {
      "text/plain": [
       "[]"
      ]
     },
     "execution_count": 22,
     "metadata": {},
     "output_type": "execute_result"
    }
   ],
   "source": [
    "# Delete record\n",
    "c.execute(\"DELETE from customers WHERE email LIKE '%daisy@ssjtu.edu.cn'\")\n",
    "c.execute(\"SELECT*FROM customers\") #一定要有这行\n",
    "c.fetchall()"
   ]
  },
  {
   "cell_type": "code",
   "execution_count": 41,
   "metadata": {},
   "outputs": [
    {
     "data": {
      "text/plain": [
       "[(4, 'linebell', 'ying', 'fyyy0407@sjtu.edu.cn'),\n",
       " (2, 'Bob', 'stranger', 'stevin@sjtu.edu.cn'),\n",
       " (1, 'Bob', 'baby', 'kufy@sjtu.edu.cn')]"
      ]
     },
     "execution_count": 41,
     "metadata": {},
     "output_type": "execute_result"
    }
   ],
   "source": [
    "# order by\n",
    "c.execute(\"SELECT rowid, *FROM customers ORDER BY rowid DESC\")\n",
    "c.fetchall()"
   ]
  },
  {
   "cell_type": "code",
   "execution_count": 43,
   "metadata": {},
   "outputs": [
    {
     "data": {
      "text/plain": [
       "[('Bob', 'baby', 'kufy@sjtu.edu.cn'),\n",
       " ('linebell', 'ying', 'fyyy0407@sjtu.edu.cn')]"
      ]
     },
     "execution_count": 43,
     "metadata": {},
     "output_type": "execute_result"
    }
   ],
   "source": [
    "# And / Or\n",
    "c.execute(\"SELECT*FROM customers WHERE last_name='baby' OR last_name='ying'\")\n",
    "c.fetchall()"
   ]
  },
  {
   "cell_type": "code",
   "execution_count": 52,
   "metadata": {},
   "outputs": [
    {
     "data": {
      "text/plain": [
       "[('feng', 'ying', 'fyyy0407@sjtu.edu.cn')]"
      ]
     },
     "execution_count": 52,
     "metadata": {},
     "output_type": "execute_result"
    }
   ],
   "source": [
    "# limit\n",
    "c.execute(\"SELECT*FROM customers LIMIT 1\")\n",
    "c.fetchall()"
   ]
  },
  {
   "cell_type": "code",
   "execution_count": 47,
   "metadata": {},
   "outputs": [
    {
     "data": {
      "text/plain": [
       "<sqlite3.Cursor at 0x7f7d439d5440>"
      ]
     },
     "execution_count": 47,
     "metadata": {},
     "output_type": "execute_result"
    }
   ],
   "source": [
    "# drop table\n",
    "c.execute(\"DROP TABLE customers\")"
   ]
  },
  {
   "cell_type": "code",
   "execution_count": 61,
   "metadata": {},
   "outputs": [],
   "source": [
    "# functions\n",
    "def show_all():\n",
    "    # Query the database and return all records\n",
    "    c.execute(\"SELECT rowid,*FROM customers\")\n",
    "    items=c.fetchall()\n",
    "    for item in items:\n",
    "        print(item)\n",
    "    conn.commit()\n",
    "    conn.close()\n",
    "\n",
    "def add_one(first,last,email):\n",
    "    # Add a new record to the table\n",
    "    conn=sqlite3.connect('customer.db')\n",
    "    c.execute(\"Insert Into customers VALUES (?,?,?,)\",(first,last,email))\n",
    "    conn.commit()\n",
    "    conn.close()\n",
    "\n",
    "def delete_one(first,last,email):\n",
    "    # Delete a record in the table\n",
    "    conn=sqlite3.connect('customers.db')\n",
    "    c.execute(\"Delete From customers Values (?,?,?)\",(first,last,email))\n",
    "    conn.commit()\n",
    "    conn.close()\n"
   ]
  },
  {
   "cell_type": "markdown",
   "metadata": {},
   "source": [
    "Join tables"
   ]
  },
  {
   "cell_type": "code",
   "execution_count": null,
   "metadata": {},
   "outputs": [],
   "source": []
  }
 ],
 "metadata": {
  "kernelspec": {
   "display_name": "Python 3",
   "language": "python",
   "name": "python3"
  },
  "language_info": {
   "codemirror_mode": {
    "name": "ipython",
    "version": 3
   },
   "file_extension": ".py",
   "mimetype": "text/x-python",
   "name": "python",
   "nbconvert_exporter": "python",
   "pygments_lexer": "ipython3",
   "version": "3.10.12"
  }
 },
 "nbformat": 4,
 "nbformat_minor": 2
}
